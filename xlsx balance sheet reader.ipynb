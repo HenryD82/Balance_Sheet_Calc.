{
 "cells": [
  {
   "cell_type": "code",
   "execution_count": 1,
   "metadata": {},
   "outputs": [
    {
     "name": "stdout",
     "output_type": "stream",
     "text": [
      "All sheet names ['Amazon'] \n",
      "Current sheet name is Amazon\n"
     ]
    },
    {
     "name": "stderr",
     "output_type": "stream",
     "text": [
      "C:\\Users\\henry\\anaconda3\\lib\\site-packages\\openpyxl\\worksheet\\_reader.py:300: UserWarning: Unknown extension is not supported and will be removed\n",
      "  warn(msg)\n"
     ]
    }
   ],
   "source": [
    "import openpyxl\n",
    "\n",
    "theFile = openpyxl.load_workbook('Amazon.xlsx')\n",
    "allSheetNames = theFile.sheetnames\n",
    "\n",
    "print(\"All sheet names {} \" .format(theFile.sheetnames))\n",
    "'''\n",
    "checking we have the right xlsx file\n",
    "'''\n",
    "\n",
    "for sheet in allSheetNames:\n",
    "    print(\"Current sheet name is {}\" .format(sheet))\n",
    "    currentSheet = theFile[sheet]"
   ]
  },
  {
   "cell_type": "code",
   "execution_count": 2,
   "metadata": {},
   "outputs": [],
   "source": [
    "'''\n",
    "All accounting ratios that I should need THIS IS JUST TO BEGIN WITH.\n",
    "\n",
    "ONGOING, ADD MORE AS I PROGRESS!!!\n",
    "'''\n",
    "\n",
    "def capital_employed():\n",
    "    return [m - n for m,n in zip(crunchtime('total assets'),crunchtime('total current liabilities'))]\n",
    "    \n",
    "def operating_profit():\n",
    "    return [m - n for m,n in zip(crunchtime('total net sales'),crunchtime('total operating expenses'))]\n",
    "    \n",
    "def roce():\n",
    "    roc = [m / n for m,n in zip(operating_profit(),crunchtime(\"total equity\"))]\n",
    "    roc.insert(0, 'ROCE')\n",
    "    return roc\n",
    "    \n",
    "def gross_profit_margin():\n",
    "    gpm = [(m - n)/p for m,n,p in zip(crunchtime('total net sales'),crunchtime('cost of sales'),crunchtime('total net sales'))]\n",
    "    gpm.insert(0, 'Gross Profit Margin')\n",
    "    return gpm\n",
    "    \n",
    "def asset_turnover():\n",
    "    ass = [m / n for m,n in zip(crunchtime(\"total net sales\"), capital_employed())]\n",
    "    ass.insert(0, 'Asset Turnover')\n",
    "    return ass\n",
    "\n",
    "def current_ratio():\n",
    "    cur = [m / n for m,n in zip(crunchtime(\"total current assets\"), crunchtime('total current liabilities'))]\n",
    "    cur.insert(0, 'Current Ratio')\n",
    "    return cur\n",
    "\n",
    "def quick_ratio():\n",
    "    qui = [(m - n)/p for m,n,p in zip(crunchtime('total current assets'),crunchtime('inventories'),crunchtime('total current liabilities'))]\n",
    "    qui.insert(0, 'Quick Ratio')\n",
    "    return qui\n",
    "\n",
    "def inventories_turnover_period():\n",
    "    itp = [m*365 / n for m,n in zip(crunchtime('inventories'),crunchtime('cost of sales'))]\n",
    "    itp.insert(0, 'Inventories Turnover Period')\n",
    "    return itp\n",
    "    "
   ]
  },
  {
   "cell_type": "code",
   "execution_count": 3,
   "metadata": {},
   "outputs": [],
   "source": [
    "'''\n",
    "This is the function that searches in the headings row for the desired year and the output \n",
    "is the corresponding column\n",
    "'''\n",
    "def year(yr):\n",
    "    for row in '1':\n",
    "        for column in \"ABCDEFGHIJKLM\":  # Here you can add or reduce the columns\n",
    "            cell_year = \"{}{}\".format(column, row)\n",
    "            if currentSheet[cell_year].value == yr:\n",
    "                return cell_year[0]\n",
    "            \n",
    "\n",
    "'''\n",
    "only gives the column letters that are associated to a year.\n",
    "'''\n",
    "\n",
    "All_potential_years = [x for x in range(2010, 2030)]\n",
    "Col = [year(i) for i in All_potential_years]\n",
    "rel_col = [] \n",
    "for val in Col: \n",
    "    if val != None : \n",
    "        rel_col.append(val) \n",
    "\n",
    "'''\n",
    "Finds the value of cell for the year that you want.\n",
    "\n",
    "Value = str\n",
    "'''\n",
    "def fig(value, yr):\n",
    "    for row in range(1, currentSheet.max_row + 1):\n",
    "        for column in \"ABCDEFG\":  # Here you can add or reduce the columns\n",
    "            cell_name = \"{}{}\".format(column, row)\n",
    "            cell_value = \"{}{}\".format(yr, row)\n",
    "            if currentSheet[cell_name].value == value:\n",
    "                return currentSheet[cell_value].value\n",
    "'''\n",
    "Just a smaller function so that it is more efficient\n",
    "'''\n",
    "def crunch():\n",
    "    def time(yr):\n",
    "        for row in '1':\n",
    "            for column in \"ABCDEFGHIJKLM\":  # Here you can add or reduce the columns\n",
    "                cell_year = \"{}{}\".format(column, row)\n",
    "                if currentSheet[cell_year].value == yr:\n",
    "                    return yr\n",
    "    return [time(yr) for yr in All_potential_years]\n",
    "\n",
    "crunch()\n",
    "available_years = []\n",
    "for val in crunch(): \n",
    "    if val != None : \n",
    "        available_years.append(val)\n",
    "available_years.insert(0, ' ')\n",
    "'''\n",
    "Function to spit out a list of the years we have available\n",
    "'''\n",
    "def crunchtime(value):\n",
    "    return [fig(value, yr) for yr in rel_col]"
   ]
  },
  {
   "cell_type": "code",
   "execution_count": 7,
   "metadata": {},
   "outputs": [
    {
     "name": "stdout",
     "output_type": "stream",
     "text": [
      "+-----------------------------+---------------------+---------------------+\n",
      "|                             |         2017        |         2018        |\n",
      "+-----------------------------+---------------------+---------------------+\n",
      "|             ROCE            | 0.14818290086253563 | 0.28521894877035064 |\n",
      "|     Gross Profit Margin     |  0.3706835482891615 |  0.4024741612885219 |\n",
      "|        Asset Turnover       |  2.4223514511010937 |  2.470766096947707  |\n",
      "|        Current Ratio        |  1.039977195376881  |  1.098112324721089  |\n",
      "|         Quick Ratio         |  0.7627455384136966 |  0.8469974119401675 |\n",
      "| Inventories Turnover Period |  52.32686225811639  |  45.04663830521142  |\n",
      "+-----------------------------+---------------------+---------------------+\n"
     ]
    }
   ],
   "source": [
    "from prettytable import PrettyTable\n",
    "    \n",
    "x = PrettyTable()\n",
    "\n",
    "x.field_names = available_years\n",
    "\n",
    "x.add_row(roce())\n",
    "x.add_row(gross_profit_margin())\n",
    "x.add_row(asset_turnover())\n",
    "x.add_row(current_ratio())\n",
    "x.add_row(quick_ratio())\n",
    "x.add_row(inventories_turnover_period())\n",
    "\n",
    "print(x)\n"
   ]
  },
  {
   "cell_type": "code",
   "execution_count": 6,
   "metadata": {},
   "outputs": [
    {
     "name": "stdout",
     "output_type": "stream",
     "text": [
      "Collecting PTable\n",
      "  Using cached PTable-0.9.2.tar.gz (31 kB)\n",
      "Building wheels for collected packages: PTable\n",
      "  Building wheel for PTable (setup.py): started\n",
      "  Building wheel for PTable (setup.py): finished with status 'done'\n",
      "  Created wheel for PTable: filename=PTable-0.9.2-py3-none-any.whl size=22909 sha256=f7f1129333085deb7d8f8f939d7945f8fe083df6978366a0cf8733000e961470\n",
      "  Stored in directory: c:\\users\\henry\\appdata\\local\\pip\\cache\\wheels\\1b\\3a\\02\\8d8da2bca2223dda2f827949c88b2d82dc85dccbc2bb6265e5\n",
      "Successfully built PTable\n",
      "Installing collected packages: PTable\n",
      "Successfully installed PTable-0.9.2\n",
      "Note: you may need to restart the kernel to use updated packages.\n"
     ]
    }
   ],
   "source": [
    "pip install PTable"
   ]
  },
  {
   "cell_type": "code",
   "execution_count": null,
   "metadata": {},
   "outputs": [],
   "source": []
  },
  {
   "cell_type": "code",
   "execution_count": null,
   "metadata": {},
   "outputs": [],
   "source": []
  },
  {
   "cell_type": "code",
   "execution_count": null,
   "metadata": {},
   "outputs": [],
   "source": []
  },
  {
   "cell_type": "code",
   "execution_count": null,
   "metadata": {},
   "outputs": [],
   "source": []
  },
  {
   "cell_type": "code",
   "execution_count": null,
   "metadata": {},
   "outputs": [],
   "source": []
  },
  {
   "cell_type": "code",
   "execution_count": null,
   "metadata": {},
   "outputs": [],
   "source": []
  },
  {
   "cell_type": "code",
   "execution_count": null,
   "metadata": {},
   "outputs": [],
   "source": []
  },
  {
   "cell_type": "code",
   "execution_count": null,
   "metadata": {},
   "outputs": [],
   "source": []
  },
  {
   "cell_type": "code",
   "execution_count": null,
   "metadata": {},
   "outputs": [],
   "source": []
  },
  {
   "cell_type": "code",
   "execution_count": null,
   "metadata": {},
   "outputs": [],
   "source": []
  }
 ],
 "metadata": {
  "anaconda-cloud": {},
  "kernelspec": {
   "display_name": "Python 3",
   "language": "python",
   "name": "python3"
  },
  "language_info": {
   "codemirror_mode": {
    "name": "ipython",
    "version": 3
   },
   "file_extension": ".py",
   "mimetype": "text/x-python",
   "name": "python",
   "nbconvert_exporter": "python",
   "pygments_lexer": "ipython3",
   "version": "3.8.3"
  }
 },
 "nbformat": 4,
 "nbformat_minor": 1
}
